{
  "nbformat": 4,
  "nbformat_minor": 0,
  "metadata": {
    "colab": {
      "name": "Pro1.ipynb",
      "provenance": [],
      "collapsed_sections": []
    },
    "kernelspec": {
      "name": "python3",
      "display_name": "Python 3"
    },
    "accelerator": "GPU"
  },
  "cells": [
    {
      "cell_type": "markdown",
      "metadata": {
        "id": "IHWAiSISMLk4",
        "colab_type": "text"
      },
      "source": [
        "<div align='center'>\n",
        "    <p>You can open this file in <b>Google Colab</b></p>\n",
        "    <a href=\"https://colab.research.google.com/github/vstark21/Neural_Style_Transfer/blob/master/main.ipynb\"><img src=\"https://colab.research.google.com/assets/colab-badge.svg\"></a>\n",
        "</div>"
      ]
    },
    {
      "cell_type": "markdown",
      "metadata": {
        "id": "5SScNSvRJ2Fb",
        "colab_type": "text"
      },
      "source": [
        "First lets import our modules."
      ]
    },
    {
      "cell_type": "code",
      "metadata": {
        "id": "hCvIHgrqINID",
        "colab_type": "code",
        "colab": {}
      },
      "source": [
        "from main_utils import *\n",
        "import time\n",
        "import IPython.display as display"
      ],
      "execution_count": 16,
      "outputs": []
    },
    {
      "cell_type": "markdown",
      "metadata": {
        "id": "2y27SewJJ7kL",
        "colab_type": "text"
      },
      "source": [
        "Now lets get our data."
      ]
    },
    {
      "cell_type": "code",
      "metadata": {
        "id": "wQoF8SFZITWn",
        "colab_type": "code",
        "colab": {}
      },
      "source": [
        "content_image, style_image = get_data(\"photo.jpg\", \"style.jpg\")\n",
        "\n",
        "content_image_copy = content_image.copy()"
      ],
      "execution_count": 17,
      "outputs": []
    },
    {
      "cell_type": "markdown",
      "metadata": {
        "id": "eiFfXnH_J-ZB",
        "colab_type": "text"
      },
      "source": [
        "Create a class and function to get loss and gradients to optimize."
      ]
    },
    {
      "cell_type": "code",
      "metadata": {
        "id": "B35ZGgXCJsCW",
        "colab_type": "code",
        "colab": {}
      },
      "source": [
        "# Evaluator class for optimizing \n",
        "class Evaluator:\n",
        "\n",
        "    def loss(self, x):\n",
        "\n",
        "        loss_value, grad_values = loss_and_grads(x)\n",
        "        self.loss_value = loss_value\n",
        "        self.grad_values = grad_values\n",
        "\n",
        "        return self.loss_value\n",
        "\n",
        "    def grads(self, x):\n",
        "\n",
        "        grad_values = np.copy(self.grad_values)\n",
        "        return grad_values\n",
        "\n",
        "# This returns loss and gradients \n",
        "def loss_and_grads(generated):\n",
        "\n",
        "    generated = generated.reshape((1, 512, 512, 3))\n",
        "    outs = f_outputs([generated])\n",
        "    loss_value = outs[0]\n",
        "    grad_values = np.array(outs[1]).flatten().astype('float64')\n",
        "    return loss_value, grad_values"
      ],
      "execution_count": 18,
      "outputs": []
    },
    {
      "cell_type": "markdown",
      "metadata": {
        "id": "vyrBqWzvNhfY",
        "colab_type": "text"
      },
      "source": [
        "Now lets create  variables and constant in the computational graph."
      ]
    },
    {
      "cell_type": "code",
      "metadata": {
        "id": "yWrb8x0U0H7R",
        "colab_type": "code",
        "colab": {}
      },
      "source": [
        "# Disabling eager exceution to use K.Gradients function\n",
        "tf.compat.v1.disable_eager_execution()\n",
        "\n",
        "# Creating variables and constant in the computational flow graph\n",
        "content_image = K.constant(content_image)\n",
        "style_image = K.constant(style_image)\n",
        "generated_image = K.placeholder((1, 512, 512, 3))\n",
        "loss = K.variable(0.)\n",
        "\n",
        "# Get the layers needed to prepare the loss metric\n",
        "content_layer, style_layers = get_layers(content_image, style_image, generated_image)\n",
        "\n",
        "# Define loss and gradient\n",
        "loss = total_loss(content_layer, style_layers, generated_image)\n",
        "\n",
        "# Define a function to get loss and gradients\n",
        "f_outputs = K.function([generated_image], [loss, K.gradients(loss, generated_image)])"
      ],
      "execution_count": 19,
      "outputs": []
    },
    {
      "cell_type": "markdown",
      "metadata": {
        "id": "SI4xBEkQNrEU",
        "colab_type": "text"
      },
      "source": [
        "And now we start optimization process."
      ]
    },
    {
      "cell_type": "code",
      "metadata": {
        "id": "r7tzn4xq0Sgd",
        "colab_type": "code",
        "colab": {}
      },
      "source": [
        "# Creating evaluator object\n",
        "evaluator = Evaluator()\n",
        "\n",
        "# Assigning content image to generated image\n",
        "generated_img = content_image_copy\n",
        "\n",
        "for i in range(20):\n",
        "    print('In iteration no:', i)\n",
        "\n",
        "    start_time = time.time()\n",
        "    generated_img, min_val, info = fmin_l_bfgs_b(evaluator.loss, generated_img.flatten(),\n",
        "                                                     fprime=evaluator.grads, maxfun=300)\n",
        "    \n",
        "    if i % 5 == 0:\n",
        "        generated_image = generated_img.copy()\n",
        "        generated_image = generated_image.reshape(512, 512, 3)\n",
        "        generated_image = np.clip(generated_image, 0, 255).astype('uint8')\n",
        "        cv2.imwrite(\"result-16 \" + str(i) + \".jpg\", generated_image)\n",
        "    \n",
        "    end_time = time.time()\n",
        "    display.clear_output(wait=True)\n",
        "\n",
        "    print(f'Loss: {round(min_val / 10**6, 3)} x 10^6')\n",
        "\n",
        "    print(f'Iteration {i} took {end_time - start_time} seconds')"
      ],
      "execution_count": null,
      "outputs": []
    }
  ]
}